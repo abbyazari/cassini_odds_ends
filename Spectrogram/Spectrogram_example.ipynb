{
 "cells": [
  {
   "cell_type": "markdown",
   "metadata": {},
   "source": [
    "# Basic Spectrogram in Python\n",
    "\n",
    "Developed by A. R. Azari - 3/16/2019\n",
    "\n",
    "This notebook demonstrates for example random data, spectrograms (3 dimensional data plots of time by energy/frequency vs flux/intensity) that are common within space physics and other fields. The usage in this notebook is created for example data as stored in a Pandas dataframe.\n",
    "\n",
    "There are a few ways to make spectrograms with Python using matplotlib including commands such as [pcolormesh](https://matplotlib.org/api/_as_gen/matplotlib.pyplot.pcolormesh.html), [pcolor](https://matplotlib.org/api/_as_gen/matplotlib.pyplot.pcolor.html), [specgram](https://matplotlib.org/gallery/images_contours_and_fields/specgram_demo.html#sphx-glr-gallery-images-contours-and-fields-specgram-demo-py), [contourf](https://matplotlib.org/api/_as_gen/matplotlib.axes.Axes.contourf.html), and [imshow](https://matplotlib.org/api/_as_gen/matplotlib.pyplot.imshow.html) to name a few. \n",
    "\n",
    "I personally prefer pcolormesh for spacecraft data as you can see without interpolation where NaN and zero values fall and this is what will be demonstrated for this data.\n",
    "\n",
    "You can see other examples of this within [Lab 3 of Data Visualization and Statistics in Geosciences](https://github.com/astro-abby/data_vis_statistics_geosciences/blob/master/Lab3/Lab3_JupiterFlyBy.ipynb)."
   ]
  },
  {
   "cell_type": "markdown",
   "metadata": {},
   "source": [
    "## Part 1. Imports and Setting Up Environment"
   ]
  },
  {
   "cell_type": "code",
   "execution_count": 1,
   "metadata": {},
   "outputs": [],
   "source": [
    "#import the required packages for plotting\n",
    "\n",
    "#plotting requirements\n",
    "import matplotlib.pyplot as plt\n",
    "from matplotlib.colors import LogNorm #for log normalizing\n",
    "import matplotlib.dates as mdt        #for adjustment of datetime axis\n",
    "\n",
    "\n",
    "#data requirements\n",
    "import numpy as np\n",
    "import pandas as pd\n",
    "import datetime as dt\n",
    "\n",
    "#set up of random seed value\n",
    "randomSeedValue = 3000\n",
    "np.random.seed(randomSeedValue)\n",
    "\n",
    "#set up environment to plot inline\n",
    "%matplotlib inline"
   ]
  },
  {
   "cell_type": "markdown",
   "metadata": {},
   "source": [
    "## Part 2. Set Up Example Data\n",
    "\n",
    "I demonstrate here how you can use Pandas dataframes to then use pcolormesh to make spectrograms. This is easier with non-dataframe data however, the Pandas functionality is quite extensive and useful to have data stored as this type. "
   ]
  },
  {
   "cell_type": "code",
   "execution_count": 2,
   "metadata": {},
   "outputs": [],
   "source": [
    "#set up for 5 minutes cadence a datetime array for our dataframe\n",
    "start = dt.datetime(2005, 1, 1)\n",
    "stop = dt.datetime(2005, 1, 5)\n",
    "timeIndex = np.arange(start, stop, dt.timedelta(minutes = 20))\n",
    "length = len(timeIndex)\n",
    "\n",
    "#create for 10 energy levels a log spacing of values\n",
    "eRange = 10\n",
    "#from power start to stop\n",
    "eRangeNums = np.logspace(start = 1, stop = 3, num = eRange)\n",
    "\n",
    "#make column names from energy range 0 to 9\n",
    "colNames = ['{:d}_Level'.format(e) for e in range(eRange)]\n",
    "\n",
    "\n",
    "#set up our pandas dataframe and fill with 10\n",
    "data = pd.DataFrame(index = timeIndex, data = np.full([length, eRange], 10), columns = colNames)\n",
    "\n",
    "#fill in with random data that scales roughly with the energy range of the data\n",
    "data.loc[:, :] = (data.loc[:, :])+(eRangeNums)*np.random.rand(length,eRange)\n"
   ]
  },
  {
   "cell_type": "markdown",
   "metadata": {},
   "source": [
    "## Part 3. Insert Some Invalid Values\n"
   ]
  },
  {
   "cell_type": "code",
   "execution_count": 3,
   "metadata": {},
   "outputs": [],
   "source": [
    "#remove 5% of values and assign randomly to nan or to 1\n",
    "loopLen = np.int(0.05*data.size)\n",
    "for l in (range(loopLen)):\n",
    "    #pick random columns and index\n",
    "    randCol = np.random.choice(colNames)\n",
    "    randInd = np.random.choice(data.index)\n",
    "    #pick if a nan or a 1. Let's say that 1 is not valid \n",
    "    #but it's not a missing data point either\n",
    "    inputType = np.random.choice([1, np.nan])\n",
    "    data.loc[randInd, randCol] = inputType\n"
   ]
  },
  {
   "cell_type": "markdown",
   "metadata": {},
   "source": [
    "## Part 4. Create Spectrogram\n",
    "\n",
    "This is a basic spectrogram with some formatting associated with the issues arising in Pandas and time indexing. You can find more simplistic examples in the Python documentation linked above."
   ]
  },
  {
   "cell_type": "code",
   "execution_count": 4,
   "metadata": {},
   "outputs": [
    {
     "name": "stderr",
     "output_type": "stream",
     "text": [
      "/opt/local/Library/Frameworks/Python.framework/Versions/3.5/lib/python3.5/site-packages/matplotlib/colors.py:1012: RuntimeWarning: invalid value encountered in less_equal\n",
      "  mask |= resdat <= 0\n"
     ]
    },
    {
     "data": {
      "image/png": "[encoded data removed]",
      "text/plain": [
       "<matplotlib.figure.Figure at 0x10890e588>"
      ]
     },
     "metadata": {},
     "output_type": "display_data"
    }
   ],
   "source": [
    "#set up our mesh grid\n",
    "\n",
    "#notice - there is a conversion here of BOTH the type and of the date2num\n",
    "timeValues, energyValues = np.meshgrid(mdt.date2num(data.index.to_pydatetime()), eRangeNums)\n",
    "\n",
    "#set up fontsizes for our plot\n",
    "baseSize = 20\n",
    "\n",
    "#set up figure\n",
    "fig = plt.figure(figsize=(9, 6))\n",
    "gs = plt.GridSpec(1, 1, hspace=0.0, wspace=0.0, right = 0.9)\n",
    "ax = fig.add_subplot(gs[0,0])\n",
    "\n",
    "#we need to get the values and transpose from our dataframe for\n",
    "#the right format with pcolormesh\n",
    "fluxValues = np.transpose(data.values)\n",
    "\n",
    "\n",
    "\n",
    "#we make the color bar range from blue to purple, the normalization to be logged\n",
    "#we set the lower limit to 10, again knowing that that's our auto default\n",
    "#but that we have values less than this\n",
    "\n",
    "#https://matplotlib.org/2.0.1/examples/color/colormaps_reference.html for other options\n",
    "p = ax.pcolormesh(timeValues, energyValues, fluxValues, cmap = 'plasma', norm = LogNorm(), vmin = 10, \n",
    "                  vmax = np.nanmax(data.values))\n",
    "\n",
    "#when these are used in conjunctino with vmin and vmax you can set\n",
    "#the nan values AND the under vmin values to different colors\n",
    "#this is useful in this case as we have both missing AND\n",
    "#invalid values\n",
    "p.cmap.set_under('w')\n",
    "p.cmap.set_bad('k')\n",
    "\n",
    "\n",
    "#Set up the colorbar\n",
    "cb = fig.colorbar(p)\n",
    "cb.set_label('Units of Flux', labelpad = 20, fontsize = baseSize, rotation = 270)\n",
    "cb.ax.tick_params(labelsize = baseSize)\n",
    "\n",
    "\n",
    "#set up axis labels and formatting\n",
    "ax.set_yscale('Log')\n",
    "ax.set_xlabel('Time', fontsize = baseSize)\n",
    "ax.set_ylabel('Energy (Units)', fontsize = baseSize)\n",
    "\n",
    "#x-axis format as days\n",
    "ax.xaxis.set_major_locator(mdt.DayLocator())\n",
    "ax.xaxis.set_major_formatter(mdt.DateFormatter('%D'))\n",
    "\n",
    "#trim start and stop\n",
    "ax.set_xlim([start + dt.timedelta(minutes = 30), stop - dt.timedelta(minutes = 30)])\n",
    "\n",
    "\n",
    "#finally make large labels\n",
    "ax.tick_params(labelsize = baseSize)\n",
    "plt.savefig('./Figures/ExampleSpectrogram.png')\n"
   ]
  },
  {
   "cell_type": "markdown",
   "metadata": {},
   "source": [
    "### Note on warning thrown due to the presence of NaN values [here](https://github.com/matplotlib/matplotlib/pull/5451) from the developers. "
   ]
  }
 ],
 "metadata": {
  "kernelspec": {
   "display_name": "Python 3",
   "language": "python",
   "name": "python3"
  },
  "language_info": {
   "codemirror_mode": {
    "name": "ipython",
    "version": 3
   },
   "file_extension": ".py",
   "mimetype": "text/x-python",
   "name": "python",
   "nbconvert_exporter": "python",
   "pygments_lexer": "ipython3",
   "version": "3.5.4"
  }
 },
 "nbformat": 4,
 "nbformat_minor": 2
}
